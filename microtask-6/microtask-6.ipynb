{
 "cells": [
  {
   "cell_type": "markdown",
   "metadata": {},
   "source": [
    "# Microtask-6\n",
    "\n",
    "> Perform any other analysis you may find interesting, based on the Perceval data you collected.\n",
    "\n"
   ]
  },
  {
   "cell_type": "code",
   "execution_count": 1,
   "metadata": {},
   "outputs": [],
   "source": [
    "import json\n",
    "import datetime\n",
    "import csv\n",
    "\n",
    "import requests\n",
    "import matplotlib.pyplot as plt\n",
    "\n",
    "from collections import defaultdict\n",
    "from prettytable import from_csv"
   ]
  },
  {
   "cell_type": "markdown",
   "metadata": {},
   "source": [
    "## Functions to return the summary of the contribution types"
   ]
  },
  {
   "cell_type": "code",
   "execution_count": 3,
   "metadata": {},
   "outputs": [],
   "source": [
    "def summary_commit(commit):\n",
    "    repo = commit['origin']\n",
    "    data = commit['data']\n",
    "    summary ={\n",
    "            'repo': repo,\n",
    "            'hash': data['commit'],\n",
    "            'author': data['Author'],\n",
    "            'author_date': datetime.datetime.strptime(data['AuthorDate'],\n",
    "                                                      \"%a %b %d %H:%M:%S %Y %z\"),\n",
    "            'commit': data['Commit'],\n",
    "            'created_date': datetime.datetime.strptime(data['CommitDate'],\n",
    "                                                      \"%a %b %d %H:%M:%S %Y %z\"),\n",
    "            'files_no': len(data['files'])\n",
    "    }\n",
    "    actions = 0\n",
    "    for file in data['files']:\n",
    "        if 'action' in file:\n",
    "            actions += 1\n",
    "    summary['files_action'] = actions\n",
    "    summary['merge'] = 'Merge' in data\n",
    "    return summary"
   ]
  },
  {
   "cell_type": "code",
   "execution_count": 4,
   "metadata": {},
   "outputs": [],
   "source": [
    "def summary_issue(issue):\n",
    "    repo = issue['origin']\n",
    "    data = issue['data']\n",
    "    summary ={\n",
    "            'repo': repo,\n",
    "            'hash': data['id'],\n",
    "            'author': data['user']['login'],\n",
    "            'created_date': datetime.datetime.strptime(data['created_at'],\"%Y-%m-%dT%H:%M:%SZ\"),\n",
    "            'updated_date': datetime.datetime.strptime(data['updated_at'],\"%Y-%m-%dT%H:%M:%SZ\")\n",
    "                                        if data['updated_at'] else None,\n",
    "            'comments': data['comments'],\n",
    "            'state': data['state']\n",
    "    }\n",
    "    return summary"
   ]
  },
  {
   "cell_type": "code",
   "execution_count": 5,
   "metadata": {},
   "outputs": [],
   "source": [
    "def summary_pr(pr):\n",
    "    repo = pr['origin']\n",
    "    data = pr['data']\n",
    "    summary ={\n",
    "            'repo': repo,\n",
    "            'hash': data['id'],\n",
    "            'author': data['user']['login'],\n",
    "            'created_date': datetime.datetime.strptime(data['created_at'],\"%Y-%m-%dT%H:%M:%SZ\"),\n",
    "            'closed_date': datetime.datetime.strptime(data['closed_at'],\"%Y-%m-%dT%H:%M:%SZ\")\n",
    "                                        if data['closed_at'] else None,\n",
    "            'merged_date': datetime.datetime.strptime(data['merged_at'],\"%Y-%m-%dT%H:%M:%SZ\")\n",
    "                                        if data['merged_at'] else None,\n",
    "\n",
    "            'comments': data['comments'],\n",
    "            'commits': data['commits'],\n",
    "            'additions': data['additions'],\n",
    "            'deletions': data['deletions'],\n",
    "\n",
    "            'changed_files': data['changed_files'],\n",
    "            'state': data['state']\n",
    "    }  \n",
    "    return summary"
   ]
  },
  {
   "cell_type": "markdown",
   "metadata": {},
   "source": [
    "## Dividing the data source into contribution types"
   ]
  },
  {
   "cell_type": "code",
   "execution_count": 6,
   "metadata": {},
   "outputs": [],
   "source": [
    "content = defaultdict(list)\n",
    "with open('../elasticsearch-py.json') as datasrc:\n",
    "    for line in datasrc:\n",
    "        line = json.loads(line)\n",
    "        if line['category'] == 'commit':\n",
    "            summary = summary_commit(line)\n",
    "        elif line['category'] == 'issue':\n",
    "            summary = summary_issue(line)\n",
    "        elif line['category'] == 'pull_request':\n",
    "            summary = summary_pr(line)\n",
    "        content[line['category']].append(summary)"
   ]
  }
 ],
 "metadata": {
  "kernelspec": {
   "display_name": "Python 3",
   "language": "python",
   "name": "python3"
  },
  "language_info": {
   "codemirror_mode": {
    "name": "ipython",
    "version": 3
   },
   "file_extension": ".py",
   "mimetype": "text/x-python",
   "name": "python",
   "nbconvert_exporter": "python",
   "pygments_lexer": "ipython3",
   "version": "3.7.2"
  }
 },
 "nbformat": 4,
 "nbformat_minor": 2
}
