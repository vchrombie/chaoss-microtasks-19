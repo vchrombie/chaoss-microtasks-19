{
 "cells": [
  {
   "cell_type": "markdown",
   "metadata": {},
   "source": [
    "# Microtask-6\n",
    "\n",
    "> Perform any other analysis you may find interesting, based on the Perceval data you collected.\n",
    "\n"
   ]
  },
  {
   "cell_type": "code",
   "execution_count": 3,
   "metadata": {},
   "outputs": [],
   "source": [
    "import json\n",
    "import datetime\n",
    "import csv\n",
    "\n",
    "import requests\n",
    "import matplotlib.pyplot as plt\n",
    "\n",
    "from collections import defaultdict\n",
    "from prettytable import from_csv\n",
    "\n",
    "from pprint import pprint"
   ]
  },
  {
   "cell_type": "markdown",
   "metadata": {},
   "source": [
    "## Functions to return the summary of the contribution types"
   ]
  },
  {
   "cell_type": "code",
   "execution_count": 4,
   "metadata": {},
   "outputs": [],
   "source": [
    "def summary_commit(commit):\n",
    "    repo = commit['origin']\n",
    "    data = commit['data']\n",
    "    summary ={\n",
    "            'repo': repo,\n",
    "            'hash': data['commit'],\n",
    "            'author': data['Author'],\n",
    "            'author_date': datetime.datetime.strptime(data['AuthorDate'],\n",
    "                                                      \"%a %b %d %H:%M:%S %Y %z\"),\n",
    "            'commit': data['Commit'],\n",
    "            'created_date': datetime.datetime.strptime(data['CommitDate'],\n",
    "                                                      \"%a %b %d %H:%M:%S %Y %z\"),\n",
    "            'files_no': len(data['files'])\n",
    "    }\n",
    "    actions = 0\n",
    "    for file in data['files']:\n",
    "        if 'action' in file:\n",
    "            actions += 1\n",
    "    summary['files_action'] = actions\n",
    "    summary['merge'] = 'Merge' in data\n",
    "    return summary"
   ]
  },
  {
   "cell_type": "code",
   "execution_count": 5,
   "metadata": {},
   "outputs": [],
   "source": [
    "def summary_issue(issue):\n",
    "    repo = issue['origin']\n",
    "    data = issue['data']\n",
    "    summary ={\n",
    "            'repo': repo,\n",
    "            'hash': data['id'],\n",
    "            'author': data['user']['login'],\n",
    "            'created_date': datetime.datetime.strptime(data['created_at'],\"%Y-%m-%dT%H:%M:%SZ\"),\n",
    "            'updated_date': datetime.datetime.strptime(data['updated_at'],\"%Y-%m-%dT%H:%M:%SZ\")\n",
    "                                        if data['updated_at'] else None,\n",
    "            'comments': data['comments'],\n",
    "            'state': data['state']\n",
    "    }\n",
    "    return summary"
   ]
  },
  {
   "cell_type": "code",
   "execution_count": 6,
   "metadata": {},
   "outputs": [],
   "source": [
    "def summary_pr(pr):\n",
    "    repo = pr['origin']\n",
    "    data = pr['data']\n",
    "    summary ={\n",
    "            'repo': repo,\n",
    "            'hash': data['id'],\n",
    "            'author': data['user']['login'],\n",
    "            'created_date': datetime.datetime.strptime(data['created_at'],\"%Y-%m-%dT%H:%M:%SZ\"),\n",
    "            'closed_date': datetime.datetime.strptime(data['closed_at'],\"%Y-%m-%dT%H:%M:%SZ\")\n",
    "                                        if data['closed_at'] else None,\n",
    "            'merged_date': datetime.datetime.strptime(data['merged_at'],\"%Y-%m-%dT%H:%M:%SZ\")\n",
    "                                        if data['merged_at'] else None,\n",
    "\n",
    "            'comments': data['comments'],\n",
    "            'commits': data['commits'],\n",
    "            'additions': data['additions'],\n",
    "            'deletions': data['deletions'],\n",
    "\n",
    "            'changed_files': data['changed_files'],\n",
    "            'state': data['state']\n",
    "    }  \n",
    "    return summary"
   ]
  },
  {
   "cell_type": "markdown",
   "metadata": {},
   "source": [
    "## Dividing the data source into contribution types"
   ]
  },
  {
   "cell_type": "code",
   "execution_count": 13,
   "metadata": {},
   "outputs": [],
   "source": [
    "content = defaultdict(list)\n",
    "with open('../data/elasticsearch-py.json') as datasrc:\n",
    "    for line in datasrc:\n",
    "        line = json.loads(line)\n",
    "        if line['category'] == 'commit':\n",
    "            continue\n",
    "        elif line['category'] == 'issue':\n",
    "            continue\n",
    "        elif line['category'] == 'pull_request':\n",
    "            summary = summary_pr(line)\n",
    "        content[line['category']].append(summary)"
   ]
  },
  {
   "cell_type": "code",
   "execution_count": 33,
   "metadata": {},
   "outputs": [
    {
     "name": "stdout",
     "output_type": "stream",
     "text": [
      "Open PR:  8\n",
      "Total Closed:  282\n",
      "\tClosed but not Merged:  151\n",
      "\tClosed and Merged:  131\n"
     ]
    }
   ],
   "source": [
    "# https://github.com/chaoss/wg-gmd/blob/master/metrics/pull-requests-open.md\n",
    "# https://github.com/chaoss/wg-gmd/blob/master/metrics/pull-requests-closed.md\n",
    "# https://github.com/chaoss/wg-gmd/blob/master/metrics/pull-requests-merged.md\n",
    "\n",
    "open_count =0\n",
    "closed_count = 0\n",
    "merged_count = 0\n",
    "\n",
    "for item in content[\"pull_request\"]:\n",
    "    if(item[\"state\"]==\"open\"):\n",
    "        open_count+=1\n",
    "    elif(item[\"state\"]==\"closed\"):\n",
    "        if (item[\"closed_date\"] != None and item[\"merged_date\"] == None):\n",
    "            closed_count+=1\n",
    "        elif(item[\"closed_date\"] != None and item[\"merged_date\"] != None):\n",
    "            merged_count+=1\n",
    "        \n",
    "        \n",
    "print(\"Open PR: \",open_count)\n",
    "print(\"Total Closed: \", closed_count+merged_count)\n",
    "print(\"\\tClosed but not Merged: \", closed_count)\n",
    "print(\"\\tClosed and Merged: \", merged_count)"
   ]
  },
  {
   "cell_type": "code",
   "execution_count": null,
   "metadata": {},
   "outputs": [],
   "source": [
    "for item in content[\"pull_request\"]:\n",
    "    "
   ]
  }
 ],
 "metadata": {
  "kernelspec": {
   "display_name": "Python 3",
   "language": "python",
   "name": "python3"
  },
  "language_info": {
   "codemirror_mode": {
    "name": "ipython",
    "version": 3
   },
   "file_extension": ".py",
   "mimetype": "text/x-python",
   "name": "python",
   "nbconvert_exporter": "python",
   "pygments_lexer": "ipython3",
   "version": "3.7.2"
  }
 },
 "nbformat": 4,
 "nbformat_minor": 2
}
