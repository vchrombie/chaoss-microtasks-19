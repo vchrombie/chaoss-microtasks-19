{
 "cells": [
  {
   "cell_type": "markdown",
   "metadata": {},
   "source": [
    "# Microtask 5: \n",
    "Same as Microtask-4, but now using pandas.\n",
    "> Produce a listing of repositories, as a table and as CSV file, with the number of commits authored, issues opened, and pull/merge requests opened, during the last three months, ordered by the total number (commits plus issues plus pull requests) (using pandas).\n",
    "\n",
    "I am using the data source files of five repositories of FOSSASIA. They are \n",
    "- [badgeyay](https://github.com/fossasia/badgeyay) \n",
    "- [open-event-server](https://github.com/fossasia/open-event-server) \n",
    "- [phimpme-android](https://github.com/fossasia/phimpme-android) \n",
    "- [susi_android](https://github.com/fossasia/susi_android) \n",
    "- [susi_server](https://github.com/fossasia/susi_server) \n",
    "\n",
    "All the data source are located in the `data/` folder of the repository."
   ]
  },
  {
   "cell_type": "code",
   "execution_count": 1,
   "metadata": {},
   "outputs": [],
   "source": [
    "!pip install pandas\n",
    "!pip install perceval"
   ]
  },
  {
   "cell_type": "markdown",
   "metadata": {},
   "source": [
    "# Retrieving the data\n",
    "\n",
    "You can also retrieve the data source files from the jupyter notebook itself. Just provide your `github_token` (github personal access token) and uncomment the code and run the code in the below cell."
   ]
  },
  {
   "cell_type": "code",
   "execution_count": 2,
   "metadata": {},
   "outputs": [],
   "source": [
    "github_token = \"\" # Please enter your github token here\n",
    "owner = \"fossasia\"\n",
    "repos = [\"badgeyay\", \"open-event-server\",\"phimpme-android\",\"susi_android\",\"susi_server\"]\n",
    "repos_url = [\"https://github.com/\" + owner + \"/\" + repo for repo in repos]\n",
    "files = [repo+\".json\" for repo in repos] # file to which perceval stores data (a ../ is automatically added)\n",
    "\n",
    "#for repo, repo_url, file in zip(repos, repos_url, files):\n",
    "#    print(repo, repo_url, file)\n",
    "#    !perceval git --json-line $repo_url >> ../$file\n",
    "#    !perceval github --json-line --sleep-for-rate -t $github_token --category pull_request $owner $repo >> ../data/$file\n",
    "#    !perceval github --json-line --sleep-for-rate -t $github_token --category issue $owner $repo >> ../data/$file"
   ]
  },
  {
   "cell_type": "code",
   "execution_count": 3,
   "metadata": {},
   "outputs": [],
   "source": [
    "# json library is used to handle json files, here, it is the data source retrieved by the perceval module.\n",
    "import json \n",
    "# to write and read csv files, to show the output in the end\n",
    "import csv  \n",
    "\n",
    "# importing pandas\n",
    "# pandas is used for handling huge data using dataframe\n",
    "import pandas as pd\n",
    "\n",
    "# to handle the time formats, like to determine 'created_at' of an issue or pr.\n",
    "from datetime import datetime, date, timedelta\n",
    "\n",
    "# dictionaries are a convenient way to store data for later retrieval by name (key).\n",
    "from collections import defaultdict  \n",
    "\n",
    "# it is used to send http requests, I used to get the year in which the project created to do the analysis, using requests and github api.\n",
    "import requests \n",
    "\n",
    "import matplotlib.pyplot as plt"
   ]
  },
  {
   "cell_type": "code",
   "execution_count": 4,
   "metadata": {},
   "outputs": [],
   "source": [
    "# function to get the required details of commits\n",
    "# commit has a different json structure unlike issue/pr\n",
    "\n",
    "def details_commit(commit):\n",
    "    # load the commit data into the object\n",
    "    data = commit['data']\n",
    "    # traverse through the json line to find the required data\n",
    "    content ={\n",
    "            # get the hash of the commit\n",
    "            'hash': data['commit'],\n",
    "            # get the author_name\n",
    "            'author': data['Author'],  \n",
    "            # get the date at which the commit was created\n",
    "            'created_date': datetime.strptime(data['CommitDate'],\"%a %b %d %H:%M:%S %Y %z\")  \n",
    "    }\n",
    "    return content"
   ]
  },
  {
   "cell_type": "code",
   "execution_count": 5,
   "metadata": {},
   "outputs": [],
   "source": [
    "# function to get the required details of issue/pull requests\n",
    "# as issue/pr has the same json structure in the data source scraped by perceval\n",
    "# I wrote a single function to get the either issue/pr details \n",
    "\n",
    "def details_ipr(item):\n",
    "    # load the commit data into the object\n",
    "    data = item['data']\n",
    "    # traverse through the json line to find the required data\n",
    "    content ={\n",
    "            # get the hash of the issue/pr\n",
    "            'hash': data['id'],\n",
    "            # get the author_name\n",
    "            'author': data['user']['login'],  \n",
    "            # get the date at which the issue/pr was created\n",
    "            'created_date': datetime.strptime(data['created_at'],\"%Y-%m-%dT%H:%M:%SZ\")  \n",
    "    }\n",
    "    return content "
   ]
  },
  {
   "cell_type": "code",
   "execution_count": 6,
   "metadata": {},
   "outputs": [],
   "source": [
    "def getContents(repo):\n",
    "    \n",
    "    # intializing the content dataframe with the required details\n",
    "    content_df = {\n",
    "        # commit has the column >> hash, author, date\n",
    "        'commit':pd.DataFrame(columns=['hash', 'author', 'created_date']),\n",
    "        # issue has the column >> hash, author, date\n",
    "        'issue':pd.DataFrame(columns=['hash', 'author', 'created_date']),\n",
    "        # pr has the column >> hash, author, date\n",
    "        'pull_request':pd.DataFrame(columns=['hash', 'author', 'created_date'])\n",
    "    }\n",
    "\n",
    "    # contents is to store the details of each contribution whether it is a commit, issue or pr.\n",
    "    # using a defaultdict of list so that I can store the sorted details according to the ctype as (key, value) \n",
    "    contents = defaultdict(list)\n",
    "    \n",
    "    # to filter out commit, issue, pr details from the data source and store them seperately in dict.\n",
    "    # loading the file into an object\n",
    "    with open('../data/%s.json'%repo) as datasrc:\n",
    "        for line in datasrc:\n",
    "            # load the line in the json format so as to iterate to get the required results\n",
    "            line = json.loads(line)\n",
    "            # if it is a commit, get the details of commit\n",
    "            if line['category'] == 'commit':    \n",
    "                content = details_commit(line) \n",
    "            # if it is a issue, get the details of issue\n",
    "            elif line['category'] == 'issue':    \n",
    "                content = details_ipr(line)\n",
    "            # if it is a pr, get the details of pr\n",
    "            elif line['category'] == 'pull_request':    \n",
    "                content = details_ipr(line) \n",
    "            # add the (key, value) to the list\n",
    "            contents[line['category']].append(content)\n",
    "    for item in contents:\n",
    "        content_df[item]=content_df[item].append(contents[item],sort=False)\n",
    "    return content_df"
   ]
  },
  {
   "cell_type": "code",
   "execution_count": 7,
   "metadata": {},
   "outputs": [],
   "source": [
    "# names of the repositories\n",
    "repos = ['badgeyay','phimpme-android','susi_server','susi_android','open-event-server']\n",
    "\n",
    "# contribution types\n",
    "ctypes = ('commit','pull_request','issue')\n",
    "\n",
    "# date before three months \n",
    "initial_date = datetime.combine(date.today() - timedelta(3*365/12), datetime.min.time())\n",
    "    # REFERENCE: Stack Overflow https://stackoverflow.com/a/546356/8268998\n",
    "\n",
    "# to store the total count of th contribution types\n",
    "repodata = defaultdict(list)\n",
    "\n",
    "# iterating through the repos\n",
    "for repo in repos:\n",
    "    # getting the contents to the dataframe of the repo by calling the function\n",
    "    repo_df = getContents(repo)\n",
    "    # initialized the total count to zero\n",
    "    total = 0\n",
    "    # iterating through the contribution types\n",
    "    for ctype in ctypes:\n",
    "        df = repo_df[ctype]\n",
    "        # formatting the date according to the supported format\n",
    "        df['created_date']= df['created_date'].apply(lambda x:x.replace(tzinfo=None))\n",
    "        # replacing the dataframe after checking if it is in the last three months\n",
    "        df = df[df['created_date'] >= initial_date]\n",
    "        # append the ctyoe count to the dataframe using unique hash of ctype \n",
    "        repodata[ctype].append(df['hash'].nunique())"
   ]
  },
  {
   "cell_type": "code",
   "execution_count": 8,
   "metadata": {},
   "outputs": [
    {
     "name": "stdout",
     "output_type": "stream",
     "text": [
      "Repositories Details in the past three months\n",
      "\n",
      "commit [100, 155, 37, 78, 157]\n",
      "pull_request [0, 0, 16, 140, 121]\n",
      "issue [137, 345, 30, 262, 228]\n"
     ]
    }
   ],
   "source": [
    "print(\"Repositories Details in the past three months\\n\")\n",
    "for item in dict(repodata):\n",
    "    # print the total activity quaterly\n",
    "    print (item, dict(repodata)[item])  "
   ]
  },
  {
   "cell_type": "code",
   "execution_count": 9,
   "metadata": {},
   "outputs": [],
   "source": [
    "# initializing the dataframe\n",
    "qinfo = pd.DataFrame()\n",
    "# filled the first column with repo names\n",
    "qinfo['Repository'] = repos\n",
    "# fill the second column with commit count\n",
    "qinfo['# Commits'] = repodata['commit']\n",
    "# fill the third column with issue count\n",
    "qinfo['# Issues'] = repodata['issue']\n",
    "# fill the fourth column with pull_request count\n",
    "qinfo['# PullRequests'] = repodata['pull_request']\n",
    "# fill the fifth column with computed total count\n",
    "qinfo[\"# Total\"] =qinfo.sum(axis=1)"
   ]
  },
  {
   "cell_type": "code",
   "execution_count": 10,
   "metadata": {},
   "outputs": [],
   "source": [
    "# converting the dataframe to csv file\n",
    "qinfo.to_csv('result.csv',index=None)"
   ]
  },
  {
   "cell_type": "code",
   "execution_count": 11,
   "metadata": {},
   "outputs": [
    {
     "data": {
      "text/html": [
       "<div>\n",
       "<style scoped>\n",
       "    .dataframe tbody tr th:only-of-type {\n",
       "        vertical-align: middle;\n",
       "    }\n",
       "\n",
       "    .dataframe tbody tr th {\n",
       "        vertical-align: top;\n",
       "    }\n",
       "\n",
       "    .dataframe thead th {\n",
       "        text-align: right;\n",
       "    }\n",
       "</style>\n",
       "<table border=\"1\" class=\"dataframe\">\n",
       "  <thead>\n",
       "    <tr style=\"text-align: right;\">\n",
       "      <th></th>\n",
       "      <th>Repository</th>\n",
       "      <th># Commits</th>\n",
       "      <th># Issues</th>\n",
       "      <th># PullRequests</th>\n",
       "      <th># Total</th>\n",
       "    </tr>\n",
       "  </thead>\n",
       "  <tbody>\n",
       "    <tr>\n",
       "      <th>0</th>\n",
       "      <td>badgeyay</td>\n",
       "      <td>100</td>\n",
       "      <td>137</td>\n",
       "      <td>0</td>\n",
       "      <td>237</td>\n",
       "    </tr>\n",
       "    <tr>\n",
       "      <th>1</th>\n",
       "      <td>phimpme-android</td>\n",
       "      <td>155</td>\n",
       "      <td>345</td>\n",
       "      <td>0</td>\n",
       "      <td>500</td>\n",
       "    </tr>\n",
       "    <tr>\n",
       "      <th>2</th>\n",
       "      <td>susi_server</td>\n",
       "      <td>37</td>\n",
       "      <td>30</td>\n",
       "      <td>16</td>\n",
       "      <td>83</td>\n",
       "    </tr>\n",
       "    <tr>\n",
       "      <th>3</th>\n",
       "      <td>susi_android</td>\n",
       "      <td>78</td>\n",
       "      <td>262</td>\n",
       "      <td>140</td>\n",
       "      <td>480</td>\n",
       "    </tr>\n",
       "    <tr>\n",
       "      <th>4</th>\n",
       "      <td>open-event-server</td>\n",
       "      <td>157</td>\n",
       "      <td>228</td>\n",
       "      <td>121</td>\n",
       "      <td>506</td>\n",
       "    </tr>\n",
       "  </tbody>\n",
       "</table>\n",
       "</div>"
      ],
      "text/plain": [
       "          Repository  # Commits  # Issues  # PullRequests  # Total\n",
       "0           badgeyay        100       137               0      237\n",
       "1    phimpme-android        155       345               0      500\n",
       "2        susi_server         37        30              16       83\n",
       "3       susi_android         78       262             140      480\n",
       "4  open-event-server        157       228             121      506"
      ]
     },
     "execution_count": 11,
     "metadata": {},
     "output_type": "execute_result"
    }
   ],
   "source": [
    "# reading the csv file\n",
    "pd.read_csv('result.csv')"
   ]
  },
  {
   "cell_type": "code",
   "execution_count": 13,
   "metadata": {
    "scrolled": true
   },
   "outputs": [
    {
     "data": {
      "text/plain": [
       "<matplotlib.axes._subplots.AxesSubplot at 0x7ff05182c358>"
      ]
     },
     "execution_count": 13,
     "metadata": {},
     "output_type": "execute_result"
    },
    {
     "data": {
      "image/png": "[encoded data removed]",
      "text/plain": [
       "<Figure size 864x576 with 1 Axes>"
      ]
     },
     "metadata": {
      "needs_background": "light"
     },
     "output_type": "display_data"
    }
   ],
   "source": [
    "# plotting the data of the five repositories using a bar graph\n",
    "\n",
    "df2 = pd.DataFrame(qinfo, columns=['# Commits', '# Issues', '# PullRequests', '# Total'])\n",
    "df2.plot.bar(figsize=(12,8))"
   ]
  }
 ],
 "metadata": {
  "kernelspec": {
   "display_name": "Python 3",
   "language": "python",
   "name": "python3"
  },
  "language_info": {
   "codemirror_mode": {
    "name": "ipython",
    "version": 3
   },
   "file_extension": ".py",
   "mimetype": "text/x-python",
   "name": "python",
   "nbconvert_exporter": "python",
   "pygments_lexer": "ipython3",
   "version": "3.7.2"
  }
 },
 "nbformat": 4,
 "nbformat_minor": 2
}
