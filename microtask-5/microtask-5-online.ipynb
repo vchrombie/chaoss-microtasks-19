{
 "cells": [
  {
   "cell_type": "markdown",
   "metadata": {},
   "source": [
    "# Microtask 5: \n",
    "Same as Microtask-4, but now using pandas.\n",
    "> Produce a listing of repositories, as a table and as CSV file, with the number of commits authored, issues opened, and pull/merge requests opened, during the last three months, ordered by the total number (commits plus issues plus pull requests) (using pandas).\n",
    "\n",
    "I am using the same data source file which is used in the [microtask-0](https://github.com/vchrombie/chaoss-microtasks/blob/master/microtask-0/microtask-0.ipynb) i.e, [elasticsearch-py](https://github.com/elastic/elasticsearch-py) project which is located in the `data/` folder of the repository."
   ]
  },
  {
   "cell_type": "code",
   "execution_count": 1,
   "metadata": {},
   "outputs": [],
   "source": [
    "# while running this in mybiner notebooks if you are facing \n",
    "# dependency errors, you need to uncomment the below lines.\n",
    "\n",
    "#!pip install prettytable\n",
    "#!pip install pandas\n",
    "#!pip install perceval\n",
    "#!pip install regex\n",
    "#!pip install matplotlib"
   ]
  },
  {
   "cell_type": "markdown",
   "metadata": {},
   "source": [
    "# Retrieving the data\n",
    "\n",
    "You can also retrieve the data source files from the jupyter notebook itself. Just provide your `github_token` (github personal access token) and uncomment the code and run the code in the below cell."
   ]
  },
  {
   "cell_type": "code",
   "execution_count": 2,
   "metadata": {},
   "outputs": [],
   "source": [
    "# Please enter your github token here\n",
    "github_token = \"\" \n",
    "owner = \"elastic\"\n",
    "repos = [\"elasticsearch-py\"]\n",
    "repos_url = [\"https://github.com/\" + owner + \"/\" + repo for repo in repos]\n",
    "# file to which perceval stores data source\n",
    "files = [repo+\".json\" for repo in repos] \n",
    "ctypes = ('commit','issue','pull_request')\n",
    "\n",
    "#for repo, repo_url, file in zip(repos, repos_url, files):\n",
    "#    print(repo, repo_url, file)\n",
    "#    !perceval git --json-line $repo_url >> ../$file\n",
    "#    !perceval github --json-line --sleep-for-rate -t $github_token --category pull_request $owner $repo >> ../data/$file\n",
    "#    !perceval github --json-line --sleep-for-rate -t $github_token --category issue $owner $repo >> ../data/$file"
   ]
  },
  {
   "cell_type": "code",
   "execution_count": 3,
   "metadata": {},
   "outputs": [],
   "source": [
    "import json \n",
    "import csv  \n",
    "import regex as re\n",
    "\n",
    "import pandas as pd\n",
    "import matplotlib.pyplot as plt\n",
    "\n",
    "from datetime import datetime, date, timedelta\n",
    "from collections import defaultdict  "
   ]
  },
  {
   "cell_type": "code",
   "execution_count": 4,
   "metadata": {},
   "outputs": [],
   "source": [
    "class Contents_Repository:\n",
    "\n",
    "    def __init__(self, path):\n",
    "        \"\"\"\n",
    "        \"\"\"        \n",
    "        self.repodata = defaultdict(list)\n",
    "        \n",
    "        self.df = {\n",
    "            # commit has the column >> hash, author, date\n",
    "            'commit':pd.DataFrame(columns=['hash', 'author', 'created_date']),\n",
    "            # issue has the column >> hash, author, date\n",
    "            'issue':pd.DataFrame(columns=['hash', 'author', 'created_date']),\n",
    "            # pr has the column >> hash, author, date\n",
    "            'pull_request':pd.DataFrame(columns=['hash', 'author', 'created_date'])\n",
    "        }\n",
    "        contents = defaultdict(list)\n",
    "\n",
    "        # to filter out commit, issue, pr details from the data source and store them seperately in dict.\n",
    "        with open('%s'%path) as datasrc:\n",
    "            for line in datasrc:\n",
    "                line = json.loads(line)\n",
    "                if line['category'] == 'commit':    \n",
    "                    content = self.summary_commit(line) \n",
    "                elif line['category'] == 'issue':    \n",
    "                    content = self.summary_issue(line)\n",
    "                elif line['category'] == 'pull_request':    \n",
    "                    content = self.summary_pr(line) \n",
    "                contents[line['category']].append(content)\n",
    "        for item in contents:\n",
    "            self.df[item]=self.df[item].append(contents[item],sort=False)\n",
    "    \n",
    "    def summary_commit(self, commit):\n",
    "        repo = commit['origin']\n",
    "        data = commit['data']\n",
    "        summary ={\n",
    "                'repo': repo,\n",
    "                'hash': data['commit'],\n",
    "                'author': data['Author'],\n",
    "\n",
    "                'created_date': datetime.strptime(data['CommitDate'],\n",
    "                                                          \"%a %b %d %H:%M:%S %Y %z\")\n",
    "        }\n",
    "        return summary\n",
    "\n",
    "    def summary_issue(self, issue):\n",
    "        repo = issue['origin']\n",
    "        data = issue['data']\n",
    "        summary ={\n",
    "                'repo': repo,\n",
    "                'hash': data['id'],\n",
    "                'author': data['user']['login'],\n",
    "                'created_date': datetime.strptime(data['created_at'],\n",
    "                                                  \"%Y-%m-%dT%H:%M:%SZ\")\n",
    "        }\n",
    "        return summary\n",
    "\n",
    "    def summary_pr(self, pr):\n",
    "        repo = pr['origin']\n",
    "        data = pr['data']\n",
    "        summary ={\n",
    "                'repo': repo,\n",
    "                'hash': data['id'],\n",
    "                'author': data['user']['login'],\n",
    "                'created_date': datetime.strptime(data['created_at'],\n",
    "                                                  \"%Y-%m-%dT%H:%M:%SZ\")\n",
    "        }  \n",
    "        return summary\n",
    "    \n",
    "    def repo_name(self):\n",
    "        content_df = self.df\n",
    "        repourl = \"%s\"%content_df['commit']['repo'][0]\n",
    "        reponame = re.split('/', repourl)\n",
    "        return reponame[-1]\n",
    "\n",
    "    def get_data_3mon(self):\n",
    "        repodata = defaultdict(list)\n",
    "        initial_date = datetime.combine(date.today() - timedelta(3*365/12), \n",
    "                                        datetime.min.time())\n",
    "        # REFERENCE: Stack Overflow https://stackoverflow.com/a/546356/8268998\n",
    "\n",
    "        repodata['repo'].append(self.repo_name())\n",
    "        repo_df = self.df\n",
    "        total = 0\n",
    "        for ctype in ctypes:\n",
    "            df = repo_df[ctype]\n",
    "            df['created_date']= df['created_date'].apply(lambda x:x.replace(tzinfo=None))\n",
    "            df = df[df['created_date'] >= initial_date]\n",
    "            repodata[ctype].append(df['hash'].nunique())\n",
    "            total+=int(df['hash'].nunique())\n",
    "        repodata['total'].append(total)\n",
    "        self.repodata = repodata\n",
    "        return repodata\n",
    "    \n",
    "    def show_data_3mon(self):\n",
    "        print(\"Repositories Details in the past three months\\n\")\n",
    "        rdata = self.repodata\n",
    "        for item in dict(rdata):\n",
    "            print (item, dict(rdata)[item])  \n",
    "        print(\"\\n\")"
   ]
  },
  {
   "cell_type": "code",
   "execution_count": 5,
   "metadata": {},
   "outputs": [],
   "source": [
    "class Display_Repositories:\n",
    "    def __init__(self):\n",
    "        \"\"\"\n",
    "        \"\"\"\n",
    "        self.df = pd.DataFrame(None,columns=['Repository', '# Commits',\n",
    "                                        '# Issues', '# PRs', '# Total'])\n",
    "        \n",
    "    def update_repo(self, repodata):\n",
    "        li =[]\n",
    "        for item in dict(repodata):\n",
    "            li.append(dict(repodata)[item][0])\n",
    "        self.df = self.df.append({'Repository':li[0], '# Commits':li[1],\n",
    "                       \"# Issues\":li[2], \"# PRs\":li[3], \"# Total\":li[4]},\n",
    "                       ignore_index=True)\n",
    "\n",
    "    def as_csv(self):\n",
    "        self.df.to_csv('results-%s.csv'%owner,index=None)\n",
    "        \n",
    "    def as_table(self):\n",
    "        print(pd.read_csv('results-%s.csv'%owner))\n",
    "        \n",
    "    def data_plot(self):\n",
    "        self.df.set_index('Repository',drop=True,inplace=True)\n",
    "        self.df.plot.bar(figsize=(12,8))\n",
    "\n",
    "        plt.savefig(\"mt5-bar-%s.png\"%owner)"
   ]
  },
  {
   "cell_type": "code",
   "execution_count": 6,
   "metadata": {},
   "outputs": [
    {
     "name": "stdout",
     "output_type": "stream",
     "text": [
      "Repositories Details in the past three months\n",
      "\n",
      "repo ['elasticsearch-py']\n",
      "commit [4]\n",
      "issue [19]\n",
      "pull_request [8]\n",
      "total [31]\n",
      "\n",
      "\n",
      "         Repository  # Commits  # Issues  # PRs  # Total\n",
      "0  elasticsearch-py          4        19      8       31\n"
     ]
    },
    {
     "data": {
      "image/png": "[encoded data removed]",
      "text/plain": [
       "<Figure size 864x576 with 1 Axes>"
      ]
     },
     "metadata": {
      "needs_background": "light"
     },
     "output_type": "display_data"
    }
   ],
   "source": [
    "details = Display_Repositories()\n",
    "\n",
    "for repo in repos:\n",
    "    repo_obj = Contents_Repository(\"../data/%s.json\"%repo)\n",
    "    repo_obj.get_data_3mon()\n",
    "    repo_obj.show_data_3mon()\n",
    "\n",
    "    details.update_repo(repo_obj.get_data_3mon())\n",
    "\n",
    "details.as_csv()\n",
    "details.as_table()\n",
    "details.data_plot()"
   ]
  }
 ],
 "metadata": {
  "kernelspec": {
   "display_name": "Python 3",
   "language": "python",
   "name": "python3"
  },
  "language_info": {
   "codemirror_mode": {
    "name": "ipython",
    "version": 3
   },
   "file_extension": ".py",
   "mimetype": "text/x-python",
   "name": "python",
   "nbconvert_exporter": "python",
   "pygments_lexer": "ipython3",
   "version": "3.7.2"
  }
 },
 "nbformat": 4,
 "nbformat_minor": 2
}
