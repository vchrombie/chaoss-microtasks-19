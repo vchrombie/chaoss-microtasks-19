{
 "cells": [
  {
   "cell_type": "markdown",
   "metadata": {},
   "source": [
    "# Microtask-1\n",
    "\n",
    "> Produce a notebook showing (and producing) a list with the activity per quarter: number of new committers, submitters of issues, and submitters of pull/merge requests, number of items (commits, issues, pull/merge requests), number of repositories with new items (all of this per quarter) as a table and as a CSV file using plain python3 (no pandas).\n",
    "\n"
   ]
  },
  {
   "cell_type": "code",
   "execution_count": 1,
   "metadata": {},
   "outputs": [],
   "source": [
    "import json\n",
    "import datetime\n",
    "import csv\n",
    "\n",
    "import requests\n",
    "import matplotlib.pyplot as plt\n",
    "\n",
    "from collections import defaultdict\n",
    "from prettytable import from_csv"
   ]
  },
  {
   "cell_type": "markdown",
   "metadata": {},
   "source": [
    "## Defining Quaters\n",
    "\n",
    "The calendar year can be divided into four quarters, often abbreviated as Q1, Q2, Q3, and Q4.\n",
    "- First quarter, Q1: 1 January – 31 March (90 days or 91 days in leap years)\n",
    "- Second quarter, Q2: 1 April – 30 June (91 days)\n",
    "- Third quarter, Q3: 1 July – 30 September (92 days)\n",
    "- Fourth quarter, Q4: 1 October – 31 December (92 days)\n",
    "\n",
    "Reference: https://en.wikipedia.org/wiki/Calendar_year\n",
    "\n",
    "Each Quater is represented as **Qi yyyy** where *i* is the quater number and _yyyy_ is the year."
   ]
  },
  {
   "cell_type": "code",
   "execution_count": 2,
   "metadata": {},
   "outputs": [],
   "source": [
    "QUARTERS = (\n",
    "    ({'month':1,'day':1},  {'month':3,'day':31}),\n",
    "    ({'month':4,'day':1},  {'month':6,'day':30}),\n",
    "    ({'month':7,'day':1},  {'month':9,'day':30}),\n",
    "    ({'month':10,'day':1}, {'month':12,'day':31}),\n",
    ")\n",
    "ctypes = ('commit','pull_request','issue')"
   ]
  },
  {
   "cell_type": "markdown",
   "metadata": {},
   "source": [
    "## Functions to return the summary of the contribution types"
   ]
  },
  {
   "cell_type": "code",
   "execution_count": 3,
   "metadata": {},
   "outputs": [],
   "source": [
    "def summary_commit(commit):\n",
    "    repo = commit['origin']\n",
    "    data = commit['data']\n",
    "    summary ={\n",
    "            'repo': repo,\n",
    "            'hash': data['commit'],\n",
    "            'author': data['Author'],\n",
    "            'author_date': datetime.datetime.strptime(data['AuthorDate'],\n",
    "                                                      \"%a %b %d %H:%M:%S %Y %z\"),\n",
    "            'commit': data['Commit'],\n",
    "            'created_date': datetime.datetime.strptime(data['CommitDate'],\n",
    "                                                      \"%a %b %d %H:%M:%S %Y %z\"),\n",
    "            'files_no': len(data['files'])\n",
    "    }\n",
    "    actions = 0\n",
    "    for file in data['files']:\n",
    "        if 'action' in file:\n",
    "            actions += 1\n",
    "    summary['files_action'] = actions\n",
    "    summary['merge'] = 'Merge' in data\n",
    "    return summary"
   ]
  },
  {
   "cell_type": "code",
   "execution_count": 4,
   "metadata": {},
   "outputs": [],
   "source": [
    "def summary_issue(issue):\n",
    "    repo = issue['origin']\n",
    "    data = issue['data']\n",
    "    summary ={\n",
    "            'repo': repo,\n",
    "            'hash': data['id'],\n",
    "            'author': data['user']['login'],\n",
    "            'created_date': datetime.datetime.strptime(data['created_at'],\"%Y-%m-%dT%H:%M:%SZ\"),\n",
    "            'updated_date': datetime.datetime.strptime(data['updated_at'],\"%Y-%m-%dT%H:%M:%SZ\")\n",
    "                                        if data['updated_at'] else None,\n",
    "            'comments': data['comments'],\n",
    "            'state': data['state']\n",
    "    }\n",
    "    return summary"
   ]
  },
  {
   "cell_type": "code",
   "execution_count": 5,
   "metadata": {},
   "outputs": [],
   "source": [
    "def summary_pr(pr):\n",
    "    repo = pr['origin']\n",
    "    data = pr['data']\n",
    "    summary ={\n",
    "            'repo': repo,\n",
    "            'hash': data['id'],\n",
    "            'author': data['user']['login'],\n",
    "            'created_date': datetime.datetime.strptime(data['created_at'],\"%Y-%m-%dT%H:%M:%SZ\"),\n",
    "            'closed_date': datetime.datetime.strptime(data['closed_at'],\"%Y-%m-%dT%H:%M:%SZ\")\n",
    "                                        if data['closed_at'] else None,\n",
    "            'merged_date': datetime.datetime.strptime(data['merged_at'],\"%Y-%m-%dT%H:%M:%SZ\")\n",
    "                                        if data['merged_at'] else None,\n",
    "\n",
    "            'comments': data['comments'],\n",
    "            'commits': data['commits'],\n",
    "            'additions': data['additions'],\n",
    "            'deletions': data['deletions'],\n",
    "\n",
    "            'changed_files': data['changed_files'],\n",
    "            'state': data['state']\n",
    "    }  \n",
    "    return summary"
   ]
  },
  {
   "cell_type": "markdown",
   "metadata": {},
   "source": [
    "## Dividing the data source into contribution types"
   ]
  },
  {
   "cell_type": "code",
   "execution_count": 6,
   "metadata": {},
   "outputs": [],
   "source": [
    "content = defaultdict(list)\n",
    "with open('../elasticsearch-py.json') as datasrc:\n",
    "    for line in datasrc:\n",
    "        line = json.loads(line)\n",
    "        if line['category'] == 'commit':\n",
    "            summary = summary_commit(line)\n",
    "        elif line['category'] == 'issue':\n",
    "            summary = summary_issue(line)\n",
    "        elif line['category'] == 'pull_request':\n",
    "            summary = summary_pr(line)\n",
    "        content[line['category']].append(summary)"
   ]
  },
  {
   "cell_type": "markdown",
   "metadata": {},
   "source": [
    "## Splitting the data quaterly"
   ]
  },
  {
   "cell_type": "code",
   "execution_count": 7,
   "metadata": {},
   "outputs": [],
   "source": [
    "repodata =json.loads(requests.get(\"https://api.github.com/repos/elastic/elasticsearch-py\").text)\n",
    "\n",
    "created =datetime.datetime.strptime(repodata['created_at'][:10], \"%Y-%m-%d\").year\n",
    "present =datetime.datetime.strptime(repodata['updated_at'][:10], \"%Y-%m-%d\").year"
   ]
  },
  {
   "cell_type": "code",
   "execution_count": 8,
   "metadata": {},
   "outputs": [],
   "source": [
    "def quarterwise(first_year,last_year):\n",
    "    for year in range(first_year, last_year+1):\n",
    "        for quarter,(start,end) in enumerate(QUARTERS):\n",
    "            start = datetime.datetime(year,**start)\n",
    "            end = datetime.datetime(year,**end)\n",
    "            yield year,quarter,start,end"
   ]
  },
  {
   "cell_type": "code",
   "execution_count": 9,
   "metadata": {},
   "outputs": [],
   "source": [
    "quarters = []\n",
    "activities = defaultdict(list)\n",
    "\n",
    "newcontributors = defaultdict(list)\n",
    "oldcontributors = defaultdict(set)\n",
    "\n",
    "for year,quarter,start,end in quarterwise(created,present):\n",
    "    quarters.append(r\"Q%d %d\"%(quarter+1,year))  \n",
    "    for ctype in ctypes:\n",
    "        activity =  newcontributor =  0 \n",
    "        for item in content[ctype]:\n",
    "            if start<=item['created_date'].replace(tzinfo=None)<=end:\n",
    "                activity+=1\n",
    "                if item['author'] not in oldcontributors[ctype]:\n",
    "                    newcontributor+=1\n",
    "                    oldcontributors[ctype].add(item['author'])\n",
    "        activities[ctype].append(activity)\n",
    "        newcontributors[ctype].append(newcontributor)"
   ]
  },
  {
   "cell_type": "markdown",
   "metadata": {},
   "source": [
    "## Activity"
   ]
  },
  {
   "cell_type": "code",
   "execution_count": 10,
   "metadata": {},
   "outputs": [
    {
     "name": "stdout",
     "output_type": "stream",
     "text": [
      "Quaterwise Total Activity\n",
      "\n",
      "commit [0, 78, 154, 94, 126, 33, 30, 38, 45, 37, 27, 80, 28, 29, 21, 34, 27, 28, 31, 57, 44, 26, 10, 37, 4, 0, 0, 0]\n",
      "pull_request [0, 0, 3, 14, 16, 18, 8, 14, 13, 9, 6, 14, 11, 4, 7, 17, 15, 14, 13, 20, 24, 17, 7, 13, 8, 0, 0, 0]\n",
      "issue [0, 0, 6, 24, 39, 29, 33, 39, 41, 33, 32, 50, 63, 26, 41, 52, 51, 47, 40, 39, 65, 54, 35, 39, 19, 0, 0, 0]\n",
      "Quaterwise New Activity\n",
      "\n",
      "commit [0, 78, 154, 94, 126, 33, 30, 38, 45, 37, 27, 80, 28, 29, 21, 34, 27, 28, 31, 57, 44, 26, 10, 37, 4, 0, 0, 0]\n",
      "pull_request [0, 0, 3, 14, 16, 18, 8, 14, 13, 9, 6, 14, 11, 4, 7, 17, 15, 14, 13, 20, 24, 17, 7, 13, 8, 0, 0, 0]\n",
      "issue [0, 0, 6, 24, 39, 29, 33, 39, 41, 33, 32, 50, 63, 26, 41, 52, 51, 47, 40, 39, 65, 54, 35, 39, 19, 0, 0, 0]\n"
     ]
    }
   ],
   "source": [
    "print(\"Quaterwise Total Activity\\n\")\n",
    "for item in dict(activities):\n",
    "    print (item, dict(activities)[item])\n",
    "\n",
    "print(\"Quaterwise New Activity\\n\")\n",
    "for item in dict(newcontributors):\n",
    "    print (item, dict(activities)[item])"
   ]
  },
  {
   "cell_type": "code",
   "execution_count": 14,
   "metadata": {},
   "outputs": [],
   "source": [
    "header = ['Quarter','Commits','PullRequests','Issues',\n",
    "           'Committers','IssueSubmitters','PRSubmitters' ]\n",
    "with open('elasticsearch-py.csv', 'w') as file:\n",
    "    writer = csv.writer(file)\n",
    "    writer.writerow(header)\n",
    "    rows = zip(quarters,activities['commit'],activities['pull_request'],activities['issue'],\n",
    "              newcontributors['commit'],newcontributors['pull_request'],newcontributors['issue'],\n",
    "              )\n",
    "    writer.writerows(rows)"
   ]
  },
  {
   "cell_type": "code",
   "execution_count": 15,
   "metadata": {},
   "outputs": [
    {
     "name": "stdout",
     "output_type": "stream",
     "text": [
      "+---------+---------+--------------+--------+------------+-----------------+--------------+\n",
      "| Quarter | Commits | PullRequests | Issues | Committers | IssueSubmitters | PRSubmitters |\n",
      "+---------+---------+--------------+--------+------------+-----------------+--------------+\n",
      "| Q1 2013 |    0    |      0       |   0    |     0      |        0        |      0       |\n",
      "| Q2 2013 |    78   |      0       |   0    |     1      |        0        |      0       |\n",
      "| Q3 2013 |   154   |      3       |   6    |     2      |        2        |      5       |\n",
      "| Q4 2013 |    94   |      14      |   24   |     9      |        9        |      16      |\n",
      "| Q1 2014 |   126   |      16      |   39   |     6      |        16       |      32      |\n",
      "| Q2 2014 |    33   |      18      |   29   |     11     |        15       |      25      |\n",
      "| Q3 2014 |    30   |      8       |   33   |     3      |        8        |      25      |\n",
      "| Q4 2014 |    38   |      14      |   39   |     3      |        11       |      30      |\n",
      "| Q1 2015 |    45   |      13      |   41   |     8      |        12       |      28      |\n",
      "| Q2 2015 |    37   |      9       |   33   |     4      |        7        |      31      |\n",
      "| Q3 2015 |    27   |      6       |   32   |     5      |        6        |      25      |\n",
      "| Q4 2015 |    80   |      14      |   50   |     9      |        12       |      38      |\n",
      "| Q1 2016 |    28   |      11      |   63   |     7      |        10       |      46      |\n",
      "| Q2 2016 |    29   |      4       |   26   |     2      |        3        |      20      |\n",
      "| Q3 2016 |    21   |      7       |   41   |     0      |        5        |      36      |\n",
      "| Q4 2016 |    34   |      17      |   52   |     6      |        14       |      42      |\n",
      "| Q1 2017 |    27   |      15      |   51   |     7      |        12       |      36      |\n",
      "| Q2 2017 |    28   |      14      |   47   |     4      |        6        |      33      |\n",
      "| Q3 2017 |    31   |      13      |   40   |     5      |        8        |      31      |\n",
      "| Q4 2017 |    57   |      20      |   39   |     5      |        9        |      25      |\n",
      "| Q1 2018 |    44   |      24      |   65   |     10     |        10       |      37      |\n",
      "| Q2 2018 |    26   |      17      |   54   |     8      |        9        |      38      |\n",
      "| Q3 2018 |    10   |      7       |   35   |     3      |        4        |      27      |\n",
      "| Q4 2018 |    37   |      13      |   39   |     7      |        8        |      26      |\n",
      "| Q1 2019 |    4    |      8       |   19   |     4      |        8        |      13      |\n",
      "| Q2 2019 |    0    |      0       |   0    |     0      |        0        |      0       |\n",
      "| Q3 2019 |    0    |      0       |   0    |     0      |        0        |      0       |\n",
      "| Q4 2019 |    0    |      0       |   0    |     0      |        0        |      0       |\n",
      "+---------+---------+--------------+--------+------------+-----------------+--------------+\n"
     ]
    }
   ],
   "source": [
    "with open(\"elasticsearch-py.csv\", \"r\") as csvfile: \n",
    "    csvtable = from_csv(csvfile)\n",
    "    \n",
    "print(csvtable)"
   ]
  }
 ],
 "metadata": {
  "kernelspec": {
   "display_name": "Python 3",
   "language": "python",
   "name": "python3"
  },
  "language_info": {
   "codemirror_mode": {
    "name": "ipython",
    "version": 3
   },
   "file_extension": ".py",
   "mimetype": "text/x-python",
   "name": "python",
   "nbconvert_exporter": "python",
   "pygments_lexer": "ipython3",
   "version": "3.7.2"
  }
 },
 "nbformat": 4,
 "nbformat_minor": 2
}
