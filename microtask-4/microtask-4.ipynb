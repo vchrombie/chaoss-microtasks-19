{
 "cells": [
  {
   "cell_type": "code",
   "execution_count": 1,
   "metadata": {},
   "outputs": [],
   "source": [
    "# json library is used to handle json files, here, it is the data source retrieved by the perceval module.\n",
    "import json \n",
    "# to write and read csv files, to show the output in the end\n",
    "import csv  \n",
    "\n",
    "# importing pandas\n",
    "# pandas is used for handling huge data using dataframe\n",
    "import pandas as pd\n",
    "\n",
    "# to handle the time formats, like to determine 'created_at' of an issue or pr.\n",
    "from datetime import datetime, date, timedelta\n",
    "\n",
    "# dictionaries are a convenient way to store data for later retrieval by name (key).\n",
    "from collections import defaultdict  \n",
    "\n",
    "# it is used to send http requests, I used to get the year in which the project created to do the analysis, using requests and github api.\n",
    "import requests \n",
    "\n",
    "from prettytable import from_csv"
   ]
  },
  {
   "cell_type": "code",
   "execution_count": null,
   "metadata": {},
   "outputs": [],
   "source": []
  },
  {
   "cell_type": "code",
   "execution_count": null,
   "metadata": {},
   "outputs": [],
   "source": []
  },
  {
   "cell_type": "code",
   "execution_count": 2,
   "metadata": {},
   "outputs": [],
   "source": [
    "repos = ['badgeyay','susi_android']\n",
    "\n",
    "ctypes = ('commit','pull_request','issue')"
   ]
  },
  {
   "cell_type": "code",
   "execution_count": 3,
   "metadata": {},
   "outputs": [],
   "source": [
    "# function to get the required details of commits\n",
    "# commit has a different json structure unlike issue/pr\n",
    "\n",
    "def details_commit(commit):\n",
    "    # load the commit data into the object\n",
    "    data = commit['data']\n",
    "    # traverse through the json line to find the required data\n",
    "    content ={\n",
    "            # get the hash of the commit\n",
    "            'hash': data['commit'],\n",
    "            # get the author_name\n",
    "            'author': data['Author'],  \n",
    "            # get the date at which the commit was created\n",
    "            'created_date': datetime.strptime(data['CommitDate'],\"%a %b %d %H:%M:%S %Y %z\")  \n",
    "    }\n",
    "    return content"
   ]
  },
  {
   "cell_type": "code",
   "execution_count": 4,
   "metadata": {},
   "outputs": [],
   "source": [
    "# function to get the required details of issue/pull requests\n",
    "# as issue/pr has the same json structure in the data source scraped by perceval\n",
    "# I wrote a single function to get the either issue/pr details \n",
    "\n",
    "def details_ipr(item):\n",
    "    # load the commit data into the object\n",
    "    data = item['data']\n",
    "    # traverse through the json line to find the required data\n",
    "    content ={\n",
    "            # get the hash of the issue/pr\n",
    "            'hash': data['id'],\n",
    "            # get the author_name\n",
    "            'author': data['user']['login'],  \n",
    "            # get the date at which the issue/pr was created\n",
    "            'created_date': datetime.strptime(data['created_at'],\"%Y-%m-%dT%H:%M:%SZ\")  \n",
    "    }\n",
    "    return content "
   ]
  },
  {
   "cell_type": "code",
   "execution_count": 5,
   "metadata": {},
   "outputs": [],
   "source": [
    "def getContents(repo):\n",
    "    # contents is to store the details of each contribution whether it is a commit, issue or pr.\n",
    "    # using a defaultdict of list so that I can store the sorted details according to the ctype as (key, value) \n",
    "    contents = defaultdict(list)\n",
    "\n",
    "    # to filter out commit, issue, pr details from the data source and store them seperately in dict.\n",
    "    # loading the file into an object\n",
    "    with open('../data/%s.json'%repo) as datasrc:\n",
    "        for line in datasrc:\n",
    "            # load the line in the json format so as to iterate to get the required results\n",
    "            line = json.loads(line)\n",
    "            # if it is a commit, get the details of commit\n",
    "            if line['category'] == 'commit':    \n",
    "                content = details_commit(line) \n",
    "            # if it is a issue, get the details of issue\n",
    "            elif line['category'] == 'issue':    \n",
    "                content = details_ipr(line)\n",
    "            # if it is a pr, get the details of pr\n",
    "            elif line['category'] == 'pull_request':    \n",
    "                content = details_ipr(line) \n",
    "            # add the (key, value) to the list\n",
    "            contents[line['category']].append(content)\n",
    "        return contents"
   ]
  },
  {
   "cell_type": "code",
   "execution_count": 6,
   "metadata": {},
   "outputs": [],
   "source": [
    "initial_date = datetime.combine(date.today() - timedelta(3*365/12), datetime.min.time())   # convert datetime.date to datetime.datetime"
   ]
  },
  {
   "cell_type": "code",
   "execution_count": 7,
   "metadata": {},
   "outputs": [],
   "source": [
    "repodata = defaultdict(list)\n",
    "\n",
    "for repo in repos:\n",
    "    repocontents = getContents(repo)\n",
    "    total = 0\n",
    "    for ctype in ctypes:\n",
    "        count = 0\n",
    "        for item in repocontents[ctype]:\n",
    "            if item['created_date'].replace(tzinfo=None) >= initial_date:\n",
    "                count += 1\n",
    "        total += count\n",
    "        repodata[ctype].append(count)\n",
    "    repodata['total'].append(total)"
   ]
  },
  {
   "cell_type": "code",
   "execution_count": 8,
   "metadata": {},
   "outputs": [
    {
     "name": "stdout",
     "output_type": "stream",
     "text": [
      "Repositories Details in the past three months\n",
      "\n",
      "commit [102, 78]\n",
      "pull_request [64, 140]\n",
      "issue [0, 262]\n",
      "total [166, 480]\n"
     ]
    }
   ],
   "source": [
    "print(\"Repositories Details in the past three months\\n\")\n",
    "for item in dict(repodata):\n",
    "    # print the total activity quaterly\n",
    "    print (item, dict(repodata)[item])  "
   ]
  },
  {
   "cell_type": "code",
   "execution_count": 9,
   "metadata": {},
   "outputs": [],
   "source": [
    "# add headers to the csv file \n",
    "header = ['Repository','# Commits','# PullRequests','# Issues','# Total']\n",
    "# opening a new csv to write the data into it.\n",
    "with open('result.csv', 'w') as file:\n",
    "    # intilize the writer object\n",
    "    writer = csv.writer(file)\n",
    "    # wring the header first\n",
    "    writer.writerow(header)\n",
    "    # to map the similar index of multiple containers so that they can be added in single entity i.e, rows\n",
    "    rows = zip(repos,repodata['commit'],repodata['pull_request'],repodata['issue'],repodata['total'])\n",
    "    # writing all the rows at a time\n",
    "    writer.writerows(rows)"
   ]
  },
  {
   "cell_type": "code",
   "execution_count": 10,
   "metadata": {},
   "outputs": [
    {
     "name": "stdout",
     "output_type": "stream",
     "text": [
      "+--------------+-----------+----------------+----------+---------+\n",
      "|  Repository  | # Commits | # PullRequests | # Issues | # Total |\n",
      "+--------------+-----------+----------------+----------+---------+\n",
      "|   badgeyay   |    102    |       64       |    0     |   166   |\n",
      "| susi_android |     78    |      140       |   262    |   480   |\n",
      "+--------------+-----------+----------------+----------+---------+\n"
     ]
    }
   ],
   "source": [
    "# to show the output in the form of a table\n",
    "# load the csv file into a object\n",
    "with open(\"result.csv\", \"r\") as csvfile: \n",
    "    # using from_csv method from prettytable module\n",
    "    csvtable = from_csv(csvfile)\n",
    "    \n",
    "# print the prettified table\n",
    "print(csvtable)"
   ]
  }
 ],
 "metadata": {
  "kernelspec": {
   "display_name": "Python 3",
   "language": "python",
   "name": "python3"
  },
  "language_info": {
   "codemirror_mode": {
    "name": "ipython",
    "version": 3
   },
   "file_extension": ".py",
   "mimetype": "text/x-python",
   "name": "python",
   "nbconvert_exporter": "python",
   "pygments_lexer": "ipython3",
   "version": "3.7.2"
  }
 },
 "nbformat": 4,
 "nbformat_minor": 2
}
