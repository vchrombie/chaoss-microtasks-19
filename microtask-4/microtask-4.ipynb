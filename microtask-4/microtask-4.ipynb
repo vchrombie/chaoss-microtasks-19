{
 "cells": [
  {
   "cell_type": "markdown",
   "metadata": {},
   "source": [
    "# Microtask 4: \n",
    "> Produce a listing of repositories, as a table and as CSV file, with the number of commits authored, issues opened, and pull/merge requests opened, during the last three months, ordered by the total number (commits plus issues plus pull requests). Use plain Python3 (eg, no Pandas) for this.\n",
    "\n",
    "I am using the data source files of five repositories of FOSSASIA. They are \n",
    "- [badgeyay](https://github.com/fossasia/badgeyay) \n",
    "- [open-event-server](https://github.com/fossasia/open-event-server) \n",
    "- [phimpme-android](https://github.com/fossasia/phimpme-android) \n",
    "- [susi_android](https://github.com/fossasia/susi_android) \n",
    "- [susi_server](https://github.com/fossasia/susi_server) \n",
    "\n",
    "All the data source are located in the `data/` folder of the repository."
   ]
  },
  {
   "cell_type": "code",
   "execution_count": 1,
   "metadata": {},
   "outputs": [
    {
     "name": "stdout",
     "output_type": "stream",
     "text": [
      "Requirement already satisfied: prettytable in /home/vchrombie/anaconda3/lib/python3.7/site-packages (0.7.2)\n",
      "\u001b[31mgrimoirelab-toolkit 0.1.9 has requirement python-dateutil>=2.8.0, but you'll have python-dateutil 2.7.3 which is incompatible.\u001b[0m\n",
      "\u001b[33mYou are using pip version 10.0.1, however version 19.0.3 is available.\n",
      "You should consider upgrading via the 'pip install --upgrade pip' command.\u001b[0m\n"
     ]
    }
   ],
   "source": [
    "!pip install prettytable\n",
    "!pip install pandas\n",
    "!pip install perceval"
   ]
  },
  {
   "cell_type": "markdown",
   "metadata": {},
   "source": [
    "# Retrieving the data\n",
    "\n",
    "You can also retrieve the data source files from the jupyter notebook itself. Just provide your `github_token` (github personal access token) and uncomment the code and run the code in the below cell."
   ]
  },
  {
   "cell_type": "code",
   "execution_count": 2,
   "metadata": {},
   "outputs": [],
   "source": [
    "github_token = \"\" # Please enter your github token here\n",
    "owner = \"fossasia\"\n",
    "repos = [\"badgeyay\", \"open-event-server\",\"phimpme-android\",\"susi_android\",\"susi_server\"]\n",
    "repos_url = [\"https://github.com/\" + owner + \"/\" + repo for repo in repos]\n",
    "files = [repo+\".json\" for repo in repos] # file to which perceval stores data (a ../ is automatically added)\n",
    "\n",
    "#for repo, repo_url, file in zip(repos, repos_url, files):\n",
    "#    print(repo, repo_url, file)\n",
    "#    !perceval git --json-line $repo_url >> ../$file\n",
    "#    !perceval github --json-line --sleep-for-rate -t $github_token --category pull_request $owner $repo >> ../data/$file\n",
    "#    !perceval github --json-line --sleep-for-rate -t $github_token --category issue $owner $repo >> ../data/$file"
   ]
  },
  {
   "cell_type": "code",
   "execution_count": 3,
   "metadata": {},
   "outputs": [],
   "source": [
    "# json library is used to handle json files, here, it is the data source retrieved by the perceval module.\n",
    "import json \n",
    "# to write and read csv files, to show the output in the end\n",
    "import csv  \n",
    "\n",
    "# importing pandas\n",
    "# pandas is used for handling huge data using dataframe\n",
    "import pandas as pd\n",
    "\n",
    "# to handle the time formats, like to determine 'created_at' of an issue or pr.\n",
    "from datetime import datetime, date, timedelta\n",
    "\n",
    "# dictionaries are a convenient way to store data for later retrieval by name (key).\n",
    "from collections import defaultdict  \n",
    "\n",
    "# it is used to send http requests, I used to get the year in which the project created to do the analysis, using requests and github api.\n",
    "import requests \n",
    "\n",
    "from prettytable import from_csv"
   ]
  },
  {
   "cell_type": "code",
   "execution_count": 4,
   "metadata": {},
   "outputs": [],
   "source": [
    "# function to get the required details of commits\n",
    "# commit has a different json structure unlike issue/pr\n",
    "\n",
    "def details_commit(commit):\n",
    "    \"\"\"\n",
    "    Get the contents of the commit.\n",
    "    \n",
    "    This method gives, by taking the line data, \n",
    "    the summary of the commit.\n",
    "    \n",
    "    :param item: line json data of the commit\n",
    "    :return: content of the line\n",
    "    \"\"\"\n",
    "    # load the commit data into the object\n",
    "    data = commit['data']\n",
    "    # traverse through the json line to find the required data\n",
    "    content ={\n",
    "            # get the hash of the commit\n",
    "            'hash': data['commit'],\n",
    "            # get the author_name\n",
    "            'author': data['Author'],  \n",
    "            # get the date at which the commit was created\n",
    "            'created_date': datetime.strptime(data['CommitDate'],\"%a %b %d %H:%M:%S %Y %z\")  \n",
    "    }\n",
    "    return content"
   ]
  },
  {
   "cell_type": "code",
   "execution_count": 5,
   "metadata": {},
   "outputs": [],
   "source": [
    "# function to get the required details of issue/pull requests\n",
    "# as issue/pr has the same json structure in the data source scraped by perceval\n",
    "# I wrote a single function to get the either issue/pr details \n",
    "\n",
    "def details_ipr(item):\n",
    "    \"\"\"\n",
    "    Get the contents of the issue/pr.\n",
    "    \n",
    "    This method gives, by taking the line data, \n",
    "    the summary of the issue/pr.\n",
    "    \n",
    "    :param item: line json data of the issue/pr\n",
    "    \n",
    "    :return: content of the line\n",
    "    \"\"\"\n",
    "    # load the commit data into the object\n",
    "    data = item['data']\n",
    "    # traverse through the json line to find the required data\n",
    "    content ={\n",
    "            # get the hash of the issue/pr\n",
    "            'hash': data['id'],\n",
    "            # get the author_name\n",
    "            'author': data['user']['login'],  \n",
    "            # get the date at which the issue/pr was created\n",
    "            'created_date': datetime.strptime(data['created_at'],\"%Y-%m-%dT%H:%M:%SZ\")  \n",
    "    }\n",
    "    return content "
   ]
  },
  {
   "cell_type": "code",
   "execution_count": 6,
   "metadata": {},
   "outputs": [],
   "source": [
    "def get_contents(repo):\n",
    "    \"\"\"\n",
    "    Get the contents of the project.\n",
    "    \n",
    "    This method gives, by taking the data retrived by perceval, \n",
    "    the content of the repository.\n",
    "    \n",
    "    :param repo: get the name of the repository\n",
    "    \n",
    "    :return: contents dataframe of the repository\n",
    "    \"\"\"\n",
    "    # using a defaultdict of list so that I can store the sorted details according to the ctype as (key, value) \n",
    "    contents = defaultdict(list)\n",
    "\n",
    "    # to filter out commit, issue, pr details from the data source and store them seperately in dict.\n",
    "    # loading the file into an object\n",
    "    with open('../data/%s.json'%repo) as datasrc:\n",
    "        for line in datasrc:\n",
    "            # load the line in the json format so as to iterate to get the required results\n",
    "            line = json.loads(line)\n",
    "            # if it is a commit, get the details of commit\n",
    "            if line['category'] == 'commit':    \n",
    "                content = details_commit(line) \n",
    "            # if it is a issue, get the details of issue\n",
    "            elif line['category'] == 'issue':    \n",
    "                content = details_ipr(line)\n",
    "            # if it is a pr, get the details of pr\n",
    "            elif line['category'] == 'pull_request':    \n",
    "                content = details_ipr(line) \n",
    "            # add the (key, value) to the list\n",
    "            contents[line['category']].append(content)\n",
    "        # return the contents\n",
    "        return contents"
   ]
  },
  {
   "cell_type": "code",
   "execution_count": 7,
   "metadata": {},
   "outputs": [],
   "source": [
    "# names of the repositories\n",
    "repos = ['badgeyay','phimpme-android','susi_server','susi_android','open-event-server']\n",
    "\n",
    "# contribution types\n",
    "ctypes = ('commit','pull_request','issue')\n",
    "\n",
    "# date before three months \n",
    "initial_date = datetime.combine(date.today() - timedelta(3*365/12), datetime.min.time())\n",
    "    # REFERENCE: Stack Overflow https://stackoverflow.com/a/546356/8268998\n",
    "\n",
    "# to store the total count of th contribution types\n",
    "repodata = defaultdict(list)\n",
    "\n",
    "# iterating through the repos\n",
    "for repo in repos:\n",
    "    # getting the contents of the repo by calling the function\n",
    "    repocontents = get_contents(repo)\n",
    "    # total count initialized\n",
    "    total = 0\n",
    "    # iterating through the contribution types\n",
    "    for ctype in ctypes:\n",
    "        # initialized the ctype count\n",
    "        count = 0\n",
    "        # iterating through the repocontents of a particular type\n",
    "        for item in repocontents[ctype]:\n",
    "            # checking if the created date is less than 3 months\n",
    "            if item['created_date'].replace(tzinfo=None) >= initial_date:\n",
    "                # if yes, increase the count\n",
    "                count += 1\n",
    "        # total count\n",
    "        total += count\n",
    "        # append the ctype count in the repodata\n",
    "        repodata[ctype].append(count)\n",
    "    # append the total count\n",
    "    repodata['total'].append(total)"
   ]
  },
  {
   "cell_type": "code",
   "execution_count": 8,
   "metadata": {},
   "outputs": [
    {
     "name": "stdout",
     "output_type": "stream",
     "text": [
      "Repositories Details in the past three months\n",
      "\n",
      "commit [100, 308, 37, 78, 301]\n",
      "pull_request [0, 0, 16, 140, 121]\n",
      "issue [137, 345, 30, 262, 228]\n",
      "total [237, 653, 83, 480, 650]\n"
     ]
    }
   ],
   "source": [
    "print(\"Repositories Details in the past three months\\n\")\n",
    "for item in dict(repodata):\n",
    "    # print the total activity quaterly\n",
    "    print (item, dict(repodata)[item])  "
   ]
  },
  {
   "cell_type": "code",
   "execution_count": 9,
   "metadata": {},
   "outputs": [],
   "source": [
    "# add headers to the csv file \n",
    "header = ['Repository','# Commits','# PullRequests','# Issues','# Total']\n",
    "# opening a new csv to write the data into it.\n",
    "with open('result.csv', 'w') as file:\n",
    "    # intilize the writer object\n",
    "    writer = csv.writer(file)\n",
    "    # wring the header first\n",
    "    writer.writerow(header)\n",
    "    # to map the similar index of multiple containers so that they can be added in single entity i.e, rows\n",
    "    rows = zip(repos,repodata['commit'],repodata['pull_request'],repodata['issue'],repodata['total'])\n",
    "    # writing all the rows at a time\n",
    "    writer.writerows(rows)"
   ]
  },
  {
   "cell_type": "code",
   "execution_count": 10,
   "metadata": {},
   "outputs": [
    {
     "name": "stdout",
     "output_type": "stream",
     "text": [
      "+-------------------+-----------+----------------+----------+---------+\n",
      "|     Repository    | # Commits | # PullRequests | # Issues | # Total |\n",
      "+-------------------+-----------+----------------+----------+---------+\n",
      "|      badgeyay     |    100    |       0        |   137    |   237   |\n",
      "|  phimpme-android  |    308    |       0        |   345    |   653   |\n",
      "|    susi_server    |     37    |       16       |    30    |    83   |\n",
      "|    susi_android   |     78    |      140       |   262    |   480   |\n",
      "| open-event-server |    301    |      121       |   228    |   650   |\n",
      "+-------------------+-----------+----------------+----------+---------+\n"
     ]
    }
   ],
   "source": [
    "# to show the output in the form of a table\n",
    "# load the csv file into a object\n",
    "with open(\"result.csv\", \"r\") as csvfile: \n",
    "    # using from_csv method from prettytable module\n",
    "    csvtable = from_csv(csvfile)\n",
    "    \n",
    "# print the prettified table\n",
    "print(csvtable)"
   ]
  }
 ],
 "metadata": {
  "kernelspec": {
   "display_name": "Python 3",
   "language": "python",
   "name": "python3"
  },
  "language_info": {
   "codemirror_mode": {
    "name": "ipython",
    "version": 3
   },
   "file_extension": ".py",
   "mimetype": "text/x-python",
   "name": "python",
   "nbconvert_exporter": "python",
   "pygments_lexer": "ipython3",
   "version": "3.7.2"
  }
 },
 "nbformat": 4,
 "nbformat_minor": 2
}
