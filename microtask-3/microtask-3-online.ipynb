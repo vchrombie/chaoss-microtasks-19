{
 "cells": [
  {
   "cell_type": "markdown",
   "metadata": {},
   "source": [
    "## Microtask 3:\n",
    "\n",
    "> Produce a notebook with charts showing the distribution of time-to-close for issues already closed, and opened during the last year, for each of the repositories analyzed, and for all of them together. Use Pandas for this, and the Python charting library of your choice (as long as it is a FOSS module).\n",
    "\n",
    "I am using the same data source file which is used in the [microtask-0](https://github.com/vchrombie/chaoss-microtasks/blob/master/microtask-0/microtask-0.ipynb) i.e, [elasticsearch-py](https://github.com/elastic/elasticsearch-py) project which is located in the `data/` folder of the repository.\n",
    "\n",
    "I am using [matplotlib](https://matplotlib.org/) as my plotting library and it is Open Source too. [matplotlib/matplotlib](https://github.com/matplotlib/matplotlib)"
   ]
  },
  {
   "cell_type": "code",
   "execution_count": 1,
   "metadata": {},
   "outputs": [],
   "source": [
    "# while running this in mybiner notebooks if you are facing \n",
    "# dependency errors, you need to uncomment the below lines.\n",
    "\n",
    "#!pip install prettytable\n",
    "#!pip install pandas\n",
    "#!pip install perceval\n",
    "#!pip install regex\n",
    "#!pip install matplotlib"
   ]
  },
  {
   "cell_type": "markdown",
   "metadata": {},
   "source": [
    "# Retrieving the data\n",
    "\n",
    "You can also retrieve the data source files from the jupyter notebook itself. Just provide your `github_token` (github personal access token) and uncomment the code and run the code in the below cell."
   ]
  },
  {
   "cell_type": "code",
   "execution_count": 2,
   "metadata": {},
   "outputs": [],
   "source": [
    "# Please enter your github token here\n",
    "github_token = \"\" \n",
    "owner = \"elastic\"\n",
    "repos = [\"elasticsearch-py\"]\n",
    "repos_url = [\"https://github.com/\" + owner + \"/\" + repo for repo in repos]\n",
    "# file to which perceval stores data source\n",
    "files = [repo+\".json\" for repo in repos] \n",
    "ctypes = ('commit','issue','pull_request')\n",
    "\n",
    "#for repo, repo_url, file in zip(repos, repos_url, files):\n",
    "#    print(repo, repo_url, file)\n",
    "#    !perceval git --json-line $repo_url >> ../$file\n",
    "#    !perceval github --json-line --sleep-for-rate -t $github_token --category pull_request $owner $repo >> ../data/$file\n",
    "#    !perceval github --json-line --sleep-for-rate -t $github_token --category issue $owner $repo >> ../data/$file"
   ]
  },
  {
   "cell_type": "code",
   "execution_count": 3,
   "metadata": {},
   "outputs": [],
   "source": [
    "import json \n",
    "import pandas as pd\n",
    "import matplotlib.pyplot as plt\n",
    "import regex as re\n",
    "\n",
    "from datetime import datetime \n",
    "\n",
    "class Issue_Close_Time:\n",
    "    \n",
    "    def __init__(self, path):\n",
    "        \"\"\"\n",
    "        \n",
    "        \"\"\"\n",
    "        self.df = pd.DataFrame(columns=['hash', 'author', \n",
    "                                        'created_date', 'state',\n",
    "                                        'closed_date','timestamp'])\n",
    "        content = []\n",
    "\n",
    "        # we need only issues here\n",
    "        with open('%s'%path) as datasrc:\n",
    "            for line in datasrc:\n",
    "                line = json.loads(line)\n",
    "                if line['category'] == 'issue':\n",
    "                    content.append(self.summary_issue(line))\n",
    "        self.df = self.df.append(content,sort= False)\n",
    " \n",
    "    def summary_issue(self, issue):\n",
    "        \"\"\"\n",
    "        Get the contents of the issue/pr.\n",
    "\n",
    "        This method gives, by taking the line data, \n",
    "        the summary of the issue/pr.\n",
    "\n",
    "        :param item: line json data of the issue/pr\n",
    "        :return: content of the line\n",
    "        \"\"\"\n",
    "        repo = issue['origin']\n",
    "        cdata = issue['data']\n",
    "        summary ={\n",
    "                'repo': repo,\n",
    "                'hash': cdata['id'],\n",
    "                'author': cdata['user']['login'],\n",
    "                'created_date': datetime.strptime(cdata['created_at'],\"%Y-%m-%dT%H:%M:%SZ\"),\n",
    "                'closed_date': datetime.strptime(cdata['closed_at'],\"%Y-%m-%dT%H:%M:%SZ\")\n",
    "                                            if cdata['closed_at'] else None,\n",
    "                'state':cdata['state'],\n",
    "                'timestamp':datetime.utcfromtimestamp(int(issue['timestamp'])).strftime('%Y-%m-%d %H:%M:%S')\n",
    "        }\n",
    "        return summary\n",
    "    \n",
    "    def time_to_close(self):\n",
    "        content_df = self.df\n",
    "        # deriving the close time from the content dataframe\n",
    "        close_time=(content_df['closed_date']-content_df['created_date']).astype('timedelta64[h]')\n",
    "        # plotting the close time versus frequency in histograms\n",
    "        close_time.plot.hist( bins=20,range=(0,200))\n",
    "        plt.xlabel('%s Close Issue Time (Hours)'%self.repo_name())\n",
    "        plt.savefig('plots/%s.png'%self.repo_name())\n",
    "        plt.show()\n",
    "        \n",
    "    def repo_name(self):\n",
    "        content_df = self.df\n",
    "        repourl = \"%s\"%content_df['repo'][0]\n",
    "        reponame = re.split('/', repourl)\n",
    "        return reponame[-1]"
   ]
  },
  {
   "cell_type": "markdown",
   "metadata": {},
   "source": [
    "## Results of Microtask-3"
   ]
  },
  {
   "cell_type": "code",
   "execution_count": 4,
   "metadata": {},
   "outputs": [
    {
     "data": {
      "image/png": "[encoded data removed]",
      "text/plain": [
       "<Figure size 432x288 with 1 Axes>"
      ]
     },
     "metadata": {
      "needs_background": "light"
     },
     "output_type": "display_data"
    }
   ],
   "source": [
    "for repo in repos:\n",
    "    rdata = Issue_Close_Time(\"../data/%s.json\"%repo)\n",
    "    rdata.time_to_close()"
   ]
  }
 ],
 "metadata": {
  "kernelspec": {
   "display_name": "Python 3",
   "language": "python",
   "name": "python3"
  },
  "language_info": {
   "codemirror_mode": {
    "name": "ipython",
    "version": 3
   },
   "file_extension": ".py",
   "mimetype": "text/x-python",
   "name": "python",
   "nbconvert_exporter": "python",
   "pygments_lexer": "ipython3",
   "version": "3.7.2"
  }
 },
 "nbformat": 4,
 "nbformat_minor": 2
}
